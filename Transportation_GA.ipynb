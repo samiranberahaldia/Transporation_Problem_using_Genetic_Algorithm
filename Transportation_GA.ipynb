{
 "cells": [
  {
   "cell_type": "markdown",
   "metadata": {},
   "source": [
    "# Solve Transportation Problem using Genetic Algorithm\n",
    "\n",
    "\n",
    "#### Import Libraries"
   ]
  },
  {
   "cell_type": "code",
   "execution_count": 1,
   "metadata": {},
   "outputs": [],
   "source": [
    "import numpy as np"
   ]
  },
  {
   "cell_type": "markdown",
   "metadata": {},
   "source": [
    "# Transportation Problem \n",
    "\n",
    "### Objective function"
   ]
  },
  {
   "cell_type": "code",
   "execution_count": 7,
   "metadata": {},
   "outputs": [],
   "source": [
    "def get_destination(pop_1):\n",
    "    pop = pop_1.copy()\n",
    "    counter = 1    \n",
    "    for j in range(pop.shape[0]):        \n",
    "        mn = np.where(min(pop)==pop)        \n",
    "        pop[mn] = counter\n",
    "        counter +=  1    \n",
    "    pop -= 1\n",
    "    return pop\n",
    "\n",
    "\n",
    "def get_fitness(data, cost): # Value of Objective Function\n",
    "    \n",
    "    population = data.copy()\n",
    "    \n",
    "    # Lower Bound\n",
    "    if population.min()<0:\n",
    "        population -=population.min()\n",
    "\n",
    "    # Upper Bound   \n",
    "    if population.max()>=1:\n",
    "        population /= population.max()+np.random.rand()\n",
    "\n",
    "    # Assign Destination\n",
    "    for i in range(population.shape[0]):    \n",
    "        population[i] = get_destination(population[i])\n",
    "\n",
    "    # Compute Fitness    \n",
    "    fitness = np.zeros(population.shape[0])\n",
    "    for i in range(population.shape[0]):\n",
    "        total_cost = 0\n",
    "        for j in range(population.shape[1]):\n",
    "            source, destination = j, int(population[i][j])             \n",
    "            fitness[i] += cost[source][destination]       \n",
    "\n",
    "    return fitness  "
   ]
  },
  {
   "cell_type": "markdown",
   "metadata": {},
   "source": [
    "# Genetic Operator Algorithm & Operators"
   ]
  },
  {
   "cell_type": "code",
   "execution_count": 18,
   "metadata": {},
   "outputs": [],
   "source": [
    "def single_point_crossover(population):\n",
    "    r,c = population.shape[0], population.shape[1]            \n",
    "    for i in range(0,r,2):        \n",
    "        n = np.random.randint(1,c)        \n",
    "        population[i], population[i+1] = np.append(population[i][0:n],population[i+1][n:c]),np.append(population[i+1][0:n],population[i][n:c])        \n",
    "    return population \n",
    "\n",
    "\n",
    "def shift_mutation(population):\n",
    "    if np.random.rand() < 0.3:\n",
    "        r,c = population.shape[0], population.shape[1]            \n",
    "        for i in range(r):\n",
    "            n = np.random.randint(1,c)        \n",
    "            population[i] = np.append(population[i][n:], population[i][:n] )\n",
    "    return population      \n",
    "\n",
    "\n",
    "def random_selection(population):\n",
    "    r = population.shape[0]\n",
    "    new_population = population.copy()    \n",
    "    for i in range(r):        \n",
    "        new_population[i] = population[np.random.randint(0,r)]\n",
    "    return new_population\n",
    "\n",
    "\n",
    "def ga_model(cost):\n",
    "    n, c, max_iter = 10, cost.shape[0], 10000 \n",
    "    \n",
    "    population = np.random.rand(n,c)\n",
    "    fitness    = get_fitness(population, cost)        \n",
    "    \n",
    "    optimal_value    = fitness.min()\n",
    "    optimal_solution = population[np.where(fitness==optimal_value)][0]    \n",
    "    \n",
    "    for i in range(max_iter):                \n",
    "        population = random_selection(population)\n",
    "        population = single_point_crossover(population)                        \n",
    "        population = shift_mutation(population)        \n",
    "                \n",
    "        fitness = get_fitness(population, cost)\n",
    "                \n",
    "        if fitness.min() < optimal_value:\n",
    "            optimal_value    = fitness.min()\n",
    "            optimal_solution = population[np.where(fitness==optimal_value)][0]                               \n",
    "        \n",
    "    return get_destination(optimal_solution), optimal_value"
   ]
  },
  {
   "cell_type": "code",
   "execution_count": 19,
   "metadata": {},
   "outputs": [
    {
     "name": "stdout",
     "output_type": "stream",
     "text": [
      "Optimal Solution\n",
      " [4. 1. 3. 2. 0.] \n",
      "Optimal Value = 17.0\n"
     ]
    }
   ],
   "source": [
    "cost = np.array([[2,3,7,6,5,],\n",
    "                 [3,2,5,9,8,],\n",
    "                 [7,3,2,5,7,],\n",
    "                 [5,3,2,8,7,],\n",
    "                 [3,2,5,8,7]])\n",
    "\n",
    "os, ov = ga_model(cost)\n",
    "print('Optimal Solution\\n',os,\n",
    "      '\\nOptimal Value =' ,ov)"
   ]
  },
  {
   "cell_type": "code",
   "execution_count": null,
   "metadata": {},
   "outputs": [],
   "source": [
    "\n"
   ]
  }
 ],
 "metadata": {
  "kernelspec": {
   "display_name": "Python 3",
   "language": "python",
   "name": "python3"
  },
  "language_info": {
   "codemirror_mode": {
    "name": "ipython",
    "version": 3
   },
   "file_extension": ".py",
   "mimetype": "text/x-python",
   "name": "python",
   "nbconvert_exporter": "python",
   "pygments_lexer": "ipython3",
   "version": "3.7.1"
  }
 },
 "nbformat": 4,
 "nbformat_minor": 2
}
